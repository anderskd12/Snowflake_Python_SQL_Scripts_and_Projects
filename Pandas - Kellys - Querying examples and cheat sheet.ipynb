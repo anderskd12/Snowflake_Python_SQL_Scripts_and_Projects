{
 "cells": [
  {
   "cell_type": "markdown",
   "id": "fd10ee22",
   "metadata": {},
   "source": [
    "## My Examples querying data from Pandas Dataframes\n"
   ]
  },
  {
   "cell_type": "markdown",
   "id": "3f4be62f",
   "metadata": {},
   "source": [
    "### This is using some zip code data from the IRS website - which can be used to validate addresses"
   ]
  },
  {
   "cell_type": "code",
   "execution_count": null,
   "id": "c6e0de48",
   "metadata": {},
   "outputs": [],
   "source": []
  },
  {
   "cell_type": "code",
   "execution_count": null,
   "id": "21c1bcfe",
   "metadata": {},
   "outputs": [],
   "source": []
  },
  {
   "cell_type": "code",
   "execution_count": 1,
   "id": "2ac2754f",
   "metadata": {},
   "outputs": [],
   "source": [
    "import pandas as pd\n",
    "import re\n",
    "\n",
    "# Sample data\n",
    "data = {\n",
    "    'State': [\n",
    "        'Alabama', 'Alabama', 'Alaska', 'Arizona', 'Arizona', 'Arizona', 'Arizona', 'Arkansas', 'California', 'California',\n",
    "        'California', 'Colorado', 'Connecticut', 'Connecticut', 'Delaware', 'District of Columbia', 'District of Columbia',\n",
    "        'District of Columbia', 'Florida', 'Florida', 'Florida', 'Florida', 'Florida', 'Florida', 'Florida', 'Georgia', 'Georgia',\n",
    "        'Hawaii', 'Hawaii', 'Idaho', 'Illinois', 'Illinois', 'Indiana', 'Iowa', 'Iowa', 'Kansas', 'Kansas', 'Kentucky',\n",
    "        'Louisiana', 'Louisiana', 'Louisiana', 'Maine', 'Maryland', 'Maryland', 'Massachusetts', 'Massachusetts', 'Michigan',\n",
    "        'Minnesota', 'Minnesota', 'Mississippi', 'Missouri', 'Missouri', 'Missouri', 'Montana', 'Nebraska', 'Nebraska', 'Nevada',\n",
    "        'Nevada', 'Nevada', 'New Hampshire', 'New Jersey', 'New Mexico', 'New Mexico', 'New Mexico', 'New York', 'New York', 'New York',\n",
    "        'North Carolina', 'North Dakota', 'Ohio', 'Oklahoma', 'Oklahoma', 'Oklahoma', 'Oregon', 'Pennsylvania', 'Rhode Island',\n",
    "        'Rhode Island', 'South Carolina', 'South Dakota', 'Tennessee', 'Texas', 'Texas', 'Texas', 'Utah', 'Vermont', 'Vermont',\n",
    "        'Virginia', 'Virginia', 'Washington', 'Washington', 'West Virginia', 'Wisconsin', 'Wisconsin', 'Wisconsin', 'Wyoming', 'Wyoming'\n",
    "    ],\n",
    "    'Abbr.': [\n",
    "        'AL', 'AL', 'AK', 'AZ', 'AZ', 'AZ', 'AZ', 'AR', 'CA', 'CA', 'CA', 'CO', 'CT', 'CT', 'DE', 'DC', 'DC', 'DC', 'FL', 'FL',\n",
    "        'FL', 'FL', 'FL', 'FL', 'FL', 'GA', 'GA', 'HI', 'HI', 'ID', 'IL', 'IL', 'IN', 'IA', 'IA', 'KS', 'KS', 'KY', 'LA', 'LA',\n",
    "        'LA', 'ME', 'MD', 'MD', 'MA', 'MA', 'MI', 'MN', 'MN', 'MS', 'MO', 'MO', 'MO', 'MT', 'NE', 'NE', 'NV', 'NV', 'NV', 'NH',\n",
    "        'NJ', 'NM', 'NM', 'NM', 'NY', 'NY', 'NY', 'NC', 'ND', 'OH', 'OK', 'OK', 'OK', 'OR', 'PA', 'RI', 'RI', 'SC', 'SD', 'TN',\n",
    "        'TX', 'TX', 'TX', 'UT', 'VT', 'VT', 'VA', 'VA', 'WA', 'WA', 'WV', 'WI', 'WI', 'WI', 'WY', 'WY'\n",
    "    ],\n",
    "    'Code': [\n",
    "        '350nn-352nn', '354nn-369nn', '995nn-999nn', '850nn-853nn', '855nn-857nn', '859nn-850nn', '863nn-865nn', '716nn-729nn',\n",
    "        '900nn-908nn', '910nn-928nn', '930nn-961nn', '800nn-816nn', '060nn-06389', '06391-069nn', '197nn-199nn', '200nn-200nn',\n",
    "        '202nn-205nn', '569nn-569nn', '320nn-339nn', '341nn-341nn', '342nn-342nn', '344nn-344nn', '346nn-346nn', '347nn-347nn',\n",
    "        '349nn-349nn', '300nn-319nn', '398nn-399nn', '967nn-967nn', '968nn-968nn', '832nn-838nn', '600nn-620nn', '622nn-629nn',\n",
    "        '460nn-479nn', '500nn-516nn', '520nn-528nn', '660nn-662nn', '664nn-679nn', '400nn-427nn', '700nn-701nn', '703nn-708nn',\n",
    "        '710nn-714nn', '039nn-049nn', '206nn-212nn', '214nn-219nn', '010nn-027nn', '055nn-055nn', '480nn-499nn', '550nn-551nn',\n",
    "        '553nn-567nn', '386nn-397nn', '630nn-631nn', '633nn-641nn', '644nn-658nn', '590nn-599nn', '680nn-681nn', '683nn-693nn',\n",
    "        '889nn-891nn', '893nn-895nn', '897nn-898nn', '030nn-038nn', '070nn-089nn', '870nn-871nn', '873nn-875nn', '877nn-884nn',\n",
    "        '005nn-005nn', '06390-06390', '100nn-149nn', '270nn-289nn', '580nn-588nn', '430nn-459nn', '730nn-731nn', '734nn-741nn',\n",
    "        '743nn-749nn', '970nn-979nn', '150nn-196nn', '028nn-028nn', '029nn-029nn', '290nn-299nn', '570nn-577nn', '370nn-385nn',\n",
    "        '733nn-733nn', '750nn-770nn', '772nn-799nn', '840nn-847nn', '050nn-054nn', '056nn-059nn', '201nn-201nn', '220nn-246nn',\n",
    "        '980nn-986nn', '988nn-994nn', '247nn-268nn', '530nn-532nn', '534nn-535nn', '537nn-549nn', '820nn-831nn', '834nn-834nn'\n",
    "    ]\n",
    "}\n",
    "\n",
    "df = pd.DataFrame(data)\n",
    "\n"
   ]
  },
  {
   "cell_type": "code",
   "execution_count": 15,
   "id": "6bb46c6c",
   "metadata": {},
   "outputs": [],
   "source": [
    "## Rename columns for state abbreviations\n",
    "df.rename(columns={'Abbr.':'ABBR'}, errors='raise', inplace='TRUE')\n"
   ]
  },
  {
   "cell_type": "code",
   "execution_count": 25,
   "id": "20e0fd1d",
   "metadata": {},
   "outputs": [],
   "source": [
    "# Expand the Code column\n",
    "# Function to expand ZIP ranges\n",
    "def expand_zip_range(zip_range):\n",
    "    start, end = zip_range.split('-')\n",
    "    start_num = int(start[:-2])  # Remove the 'nn' and convert to an integer\n",
    "    end_num = int(end[:-2])  # Remove the 'nn' and convert to an integer\n",
    "    return [str(num).zfill(3) for num in range(start_num, end_num + 1)]\n",
    "\n"
   ]
  },
  {
   "cell_type": "code",
   "execution_count": 27,
   "id": "2ad7ee6d",
   "metadata": {},
   "outputs": [],
   "source": [
    "# Expand the ZIP column\n",
    "df['Expanded ZIP'] = df['Code'].apply(expand_zip_range)\n"
   ]
  },
  {
   "cell_type": "code",
   "execution_count": 28,
   "id": "9348785f",
   "metadata": {},
   "outputs": [
    {
     "data": {
      "text/html": [
       "<div>\n",
       "<style scoped>\n",
       "    .dataframe tbody tr th:only-of-type {\n",
       "        vertical-align: middle;\n",
       "    }\n",
       "\n",
       "    .dataframe tbody tr th {\n",
       "        vertical-align: top;\n",
       "    }\n",
       "\n",
       "    .dataframe thead th {\n",
       "        text-align: right;\n",
       "    }\n",
       "</style>\n",
       "<table border=\"1\" class=\"dataframe\">\n",
       "  <thead>\n",
       "    <tr style=\"text-align: right;\">\n",
       "      <th></th>\n",
       "      <th>State</th>\n",
       "      <th>ABBR</th>\n",
       "      <th>Code</th>\n",
       "      <th>Expanded ZIP</th>\n",
       "    </tr>\n",
       "  </thead>\n",
       "  <tbody>\n",
       "    <tr>\n",
       "      <th>0</th>\n",
       "      <td>Alabama</td>\n",
       "      <td>AL</td>\n",
       "      <td>350nn-352nn</td>\n",
       "      <td>[350, 351, 352]</td>\n",
       "    </tr>\n",
       "    <tr>\n",
       "      <th>1</th>\n",
       "      <td>Alabama</td>\n",
       "      <td>AL</td>\n",
       "      <td>354nn-369nn</td>\n",
       "      <td>[354, 355, 356, 357, 358, 359, 360, 361, 362, ...</td>\n",
       "    </tr>\n",
       "    <tr>\n",
       "      <th>2</th>\n",
       "      <td>Alaska</td>\n",
       "      <td>AK</td>\n",
       "      <td>995nn-999nn</td>\n",
       "      <td>[995, 996, 997, 998, 999]</td>\n",
       "    </tr>\n",
       "    <tr>\n",
       "      <th>3</th>\n",
       "      <td>Arizona</td>\n",
       "      <td>AZ</td>\n",
       "      <td>850nn-853nn</td>\n",
       "      <td>[850, 851, 852, 853]</td>\n",
       "    </tr>\n",
       "    <tr>\n",
       "      <th>4</th>\n",
       "      <td>Arizona</td>\n",
       "      <td>AZ</td>\n",
       "      <td>855nn-857nn</td>\n",
       "      <td>[855, 856, 857]</td>\n",
       "    </tr>\n",
       "  </tbody>\n",
       "</table>\n",
       "</div>"
      ],
      "text/plain": [
       "     State ABBR         Code  \\\n",
       "0  Alabama   AL  350nn-352nn   \n",
       "1  Alabama   AL  354nn-369nn   \n",
       "2   Alaska   AK  995nn-999nn   \n",
       "3  Arizona   AZ  850nn-853nn   \n",
       "4  Arizona   AZ  855nn-857nn   \n",
       "\n",
       "                                        Expanded ZIP  \n",
       "0                                    [350, 351, 352]  \n",
       "1  [354, 355, 356, 357, 358, 359, 360, 361, 362, ...  \n",
       "2                          [995, 996, 997, 998, 999]  \n",
       "3                               [850, 851, 852, 853]  \n",
       "4                                    [855, 856, 857]  "
      ]
     },
     "execution_count": 28,
     "metadata": {},
     "output_type": "execute_result"
    }
   ],
   "source": [
    "df.head()\n"
   ]
  },
  {
   "cell_type": "code",
   "execution_count": 29,
   "id": "ec62bfd3",
   "metadata": {},
   "outputs": [],
   "source": [
    "# Explode the DataFrame to create multiple rows for each ZIP code\n",
    "df = df.explode('Expanded ZIP')"
   ]
  },
  {
   "cell_type": "code",
   "execution_count": 32,
   "id": "dfeba49c",
   "metadata": {},
   "outputs": [],
   "source": [
    "#help(df.explode)"
   ]
  },
  {
   "cell_type": "code",
   "execution_count": 33,
   "id": "53b4af50",
   "metadata": {},
   "outputs": [
    {
     "data": {
      "text/html": [
       "<div>\n",
       "<style scoped>\n",
       "    .dataframe tbody tr th:only-of-type {\n",
       "        vertical-align: middle;\n",
       "    }\n",
       "\n",
       "    .dataframe tbody tr th {\n",
       "        vertical-align: top;\n",
       "    }\n",
       "\n",
       "    .dataframe thead th {\n",
       "        text-align: right;\n",
       "    }\n",
       "</style>\n",
       "<table border=\"1\" class=\"dataframe\">\n",
       "  <thead>\n",
       "    <tr style=\"text-align: right;\">\n",
       "      <th></th>\n",
       "      <th>State</th>\n",
       "      <th>ABBR</th>\n",
       "      <th>Code</th>\n",
       "      <th>Expanded ZIP</th>\n",
       "    </tr>\n",
       "  </thead>\n",
       "  <tbody>\n",
       "    <tr>\n",
       "      <th>0</th>\n",
       "      <td>Alabama</td>\n",
       "      <td>AL</td>\n",
       "      <td>350nn-352nn</td>\n",
       "      <td>350</td>\n",
       "    </tr>\n",
       "    <tr>\n",
       "      <th>0</th>\n",
       "      <td>Alabama</td>\n",
       "      <td>AL</td>\n",
       "      <td>350nn-352nn</td>\n",
       "      <td>351</td>\n",
       "    </tr>\n",
       "    <tr>\n",
       "      <th>0</th>\n",
       "      <td>Alabama</td>\n",
       "      <td>AL</td>\n",
       "      <td>350nn-352nn</td>\n",
       "      <td>352</td>\n",
       "    </tr>\n",
       "    <tr>\n",
       "      <th>1</th>\n",
       "      <td>Alabama</td>\n",
       "      <td>AL</td>\n",
       "      <td>354nn-369nn</td>\n",
       "      <td>354</td>\n",
       "    </tr>\n",
       "    <tr>\n",
       "      <th>1</th>\n",
       "      <td>Alabama</td>\n",
       "      <td>AL</td>\n",
       "      <td>354nn-369nn</td>\n",
       "      <td>355</td>\n",
       "    </tr>\n",
       "  </tbody>\n",
       "</table>\n",
       "</div>"
      ],
      "text/plain": [
       "     State ABBR         Code Expanded ZIP\n",
       "0  Alabama   AL  350nn-352nn          350\n",
       "0  Alabama   AL  350nn-352nn          351\n",
       "0  Alabama   AL  350nn-352nn          352\n",
       "1  Alabama   AL  354nn-369nn          354\n",
       "1  Alabama   AL  354nn-369nn          355"
      ]
     },
     "execution_count": 33,
     "metadata": {},
     "output_type": "execute_result"
    }
   ],
   "source": [
    "df.head()  "
   ]
  },
  {
   "cell_type": "code",
   "execution_count": 16,
   "id": "08cecd63",
   "metadata": {},
   "outputs": [
    {
     "data": {
      "text/html": [
       "<div>\n",
       "<style scoped>\n",
       "    .dataframe tbody tr th:only-of-type {\n",
       "        vertical-align: middle;\n",
       "    }\n",
       "\n",
       "    .dataframe tbody tr th {\n",
       "        vertical-align: top;\n",
       "    }\n",
       "\n",
       "    .dataframe thead th {\n",
       "        text-align: right;\n",
       "    }\n",
       "</style>\n",
       "<table border=\"1\" class=\"dataframe\">\n",
       "  <thead>\n",
       "    <tr style=\"text-align: right;\">\n",
       "      <th></th>\n",
       "      <th>State</th>\n",
       "      <th>ABBR</th>\n",
       "      <th>Code</th>\n",
       "    </tr>\n",
       "  </thead>\n",
       "  <tbody>\n",
       "    <tr>\n",
       "      <th>0</th>\n",
       "      <td>Alabama</td>\n",
       "      <td>AL</td>\n",
       "      <td>350nn-352nn</td>\n",
       "    </tr>\n",
       "    <tr>\n",
       "      <th>1</th>\n",
       "      <td>Alabama</td>\n",
       "      <td>AL</td>\n",
       "      <td>354nn-369nn</td>\n",
       "    </tr>\n",
       "    <tr>\n",
       "      <th>2</th>\n",
       "      <td>Alaska</td>\n",
       "      <td>AK</td>\n",
       "      <td>995nn-999nn</td>\n",
       "    </tr>\n",
       "    <tr>\n",
       "      <th>3</th>\n",
       "      <td>Arizona</td>\n",
       "      <td>AZ</td>\n",
       "      <td>850nn-853nn</td>\n",
       "    </tr>\n",
       "    <tr>\n",
       "      <th>4</th>\n",
       "      <td>Arizona</td>\n",
       "      <td>AZ</td>\n",
       "      <td>855nn-857nn</td>\n",
       "    </tr>\n",
       "  </tbody>\n",
       "</table>\n",
       "</div>"
      ],
      "text/plain": [
       "     State ABBR         Code\n",
       "0  Alabama   AL  350nn-352nn\n",
       "1  Alabama   AL  354nn-369nn\n",
       "2   Alaska   AK  995nn-999nn\n",
       "3  Arizona   AZ  850nn-853nn\n",
       "4  Arizona   AZ  855nn-857nn"
      ]
     },
     "execution_count": 16,
     "metadata": {},
     "output_type": "execute_result"
    }
   ],
   "source": [
    "df.head()"
   ]
  },
  {
   "cell_type": "code",
   "execution_count": 37,
   "id": "e1bb9b76",
   "metadata": {},
   "outputs": [
    {
     "name": "stdout",
     "output_type": "stream",
     "text": [
      "     State ABBR         Code Expanded ZIP\n",
      "27  Hawaii   HI  967nn-967nn          967\n",
      "28  Hawaii   HI  968nn-968nn          968\n"
     ]
    }
   ],
   "source": [
    "## Example using dataframe.query example\n",
    "#print(df.query(\"State == 'California'\"))\n",
    "#print(df.query(\"ABBR == 'CA'\"))\n",
    "print(df.query(\"State == 'Hawaii'\"))\n",
    "#print(df.query(\"ABBR == 'CA'\"))\n"
   ]
  },
  {
   "cell_type": "code",
   "execution_count": 39,
   "id": "9f94ef03",
   "metadata": {},
   "outputs": [
    {
     "data": {
      "text/html": [
       "<div>\n",
       "<style scoped>\n",
       "    .dataframe tbody tr th:only-of-type {\n",
       "        vertical-align: middle;\n",
       "    }\n",
       "\n",
       "    .dataframe tbody tr th {\n",
       "        vertical-align: top;\n",
       "    }\n",
       "\n",
       "    .dataframe thead th {\n",
       "        text-align: right;\n",
       "    }\n",
       "</style>\n",
       "<table border=\"1\" class=\"dataframe\">\n",
       "  <thead>\n",
       "    <tr style=\"text-align: right;\">\n",
       "      <th></th>\n",
       "      <th>State</th>\n",
       "      <th>ABBR</th>\n",
       "      <th>Code</th>\n",
       "      <th>Expanded ZIP</th>\n",
       "    </tr>\n",
       "  </thead>\n",
       "  <tbody>\n",
       "    <tr>\n",
       "      <th>8</th>\n",
       "      <td>California</td>\n",
       "      <td>CA</td>\n",
       "      <td>900nn-908nn</td>\n",
       "      <td>900</td>\n",
       "    </tr>\n",
       "    <tr>\n",
       "      <th>8</th>\n",
       "      <td>California</td>\n",
       "      <td>CA</td>\n",
       "      <td>900nn-908nn</td>\n",
       "      <td>901</td>\n",
       "    </tr>\n",
       "    <tr>\n",
       "      <th>8</th>\n",
       "      <td>California</td>\n",
       "      <td>CA</td>\n",
       "      <td>900nn-908nn</td>\n",
       "      <td>902</td>\n",
       "    </tr>\n",
       "    <tr>\n",
       "      <th>8</th>\n",
       "      <td>California</td>\n",
       "      <td>CA</td>\n",
       "      <td>900nn-908nn</td>\n",
       "      <td>903</td>\n",
       "    </tr>\n",
       "    <tr>\n",
       "      <th>8</th>\n",
       "      <td>California</td>\n",
       "      <td>CA</td>\n",
       "      <td>900nn-908nn</td>\n",
       "      <td>904</td>\n",
       "    </tr>\n",
       "  </tbody>\n",
       "</table>\n",
       "</div>"
      ],
      "text/plain": [
       "        State ABBR         Code Expanded ZIP\n",
       "8  California   CA  900nn-908nn          900\n",
       "8  California   CA  900nn-908nn          901\n",
       "8  California   CA  900nn-908nn          902\n",
       "8  California   CA  900nn-908nn          903\n",
       "8  California   CA  900nn-908nn          904"
      ]
     },
     "execution_count": 39,
     "metadata": {},
     "output_type": "execute_result"
    }
   ],
   "source": [
    "df2 = df.query(\"State == 'California'\")\n",
    "df2.head()"
   ]
  },
  {
   "cell_type": "code",
   "execution_count": 19,
   "id": "397146b4",
   "metadata": {},
   "outputs": [
    {
     "name": "stdout",
     "output_type": "stream",
     "text": [
      "           Code\n",
      "0   350nn-352nn\n",
      "1   354nn-369nn\n",
      "2   995nn-999nn\n",
      "3   850nn-853nn\n",
      "4   855nn-857nn\n",
      "..          ...\n",
      "91  530nn-532nn\n",
      "92  534nn-535nn\n",
      "93  537nn-549nn\n",
      "94  820nn-831nn\n",
      "95  834nn-834nn\n",
      "\n",
      "[96 rows x 1 columns]\n"
     ]
    }
   ],
   "source": [
    "# Filter columns - This example filters colums not rows\n",
    "df2=df.filter(items=['Code','Wisconsin'])\n",
    "print(df2)"
   ]
  },
  {
   "cell_type": "code",
   "execution_count": 22,
   "id": "4714975a",
   "metadata": {},
   "outputs": [
    {
     "name": "stdout",
     "output_type": "stream",
     "text": [
      "     State ABBR         Code\n",
      "3  Arizona   AZ  850nn-853nn\n",
      "5  Arizona   AZ  859nn-850nn\n"
     ]
    }
   ],
   "source": [
    "# This example filters rows\n",
    "df2=df.filter(items=[3,5], axis=0)\n",
    "print(df2)"
   ]
  },
  {
   "cell_type": "code",
   "execution_count": 44,
   "id": "83cc42c3",
   "metadata": {},
   "outputs": [],
   "source": [
    "df = df.reset_index(drop=True)"
   ]
  },
  {
   "cell_type": "code",
   "execution_count": 45,
   "id": "56d8785f",
   "metadata": {},
   "outputs": [
    {
     "data": {
      "text/html": [
       "<div>\n",
       "<style scoped>\n",
       "    .dataframe tbody tr th:only-of-type {\n",
       "        vertical-align: middle;\n",
       "    }\n",
       "\n",
       "    .dataframe tbody tr th {\n",
       "        vertical-align: top;\n",
       "    }\n",
       "\n",
       "    .dataframe thead th {\n",
       "        text-align: right;\n",
       "    }\n",
       "</style>\n",
       "<table border=\"1\" class=\"dataframe\">\n",
       "  <thead>\n",
       "    <tr style=\"text-align: right;\">\n",
       "      <th></th>\n",
       "      <th>State</th>\n",
       "      <th>ABBR</th>\n",
       "      <th>Code</th>\n",
       "      <th>Expanded ZIP</th>\n",
       "    </tr>\n",
       "  </thead>\n",
       "  <tbody>\n",
       "    <tr>\n",
       "      <th>0</th>\n",
       "      <td>Alabama</td>\n",
       "      <td>AL</td>\n",
       "      <td>350nn-352nn</td>\n",
       "      <td>350</td>\n",
       "    </tr>\n",
       "    <tr>\n",
       "      <th>1</th>\n",
       "      <td>Alabama</td>\n",
       "      <td>AL</td>\n",
       "      <td>350nn-352nn</td>\n",
       "      <td>351</td>\n",
       "    </tr>\n",
       "    <tr>\n",
       "      <th>2</th>\n",
       "      <td>Alabama</td>\n",
       "      <td>AL</td>\n",
       "      <td>350nn-352nn</td>\n",
       "      <td>352</td>\n",
       "    </tr>\n",
       "    <tr>\n",
       "      <th>3</th>\n",
       "      <td>Alabama</td>\n",
       "      <td>AL</td>\n",
       "      <td>354nn-369nn</td>\n",
       "      <td>354</td>\n",
       "    </tr>\n",
       "    <tr>\n",
       "      <th>4</th>\n",
       "      <td>Alabama</td>\n",
       "      <td>AL</td>\n",
       "      <td>354nn-369nn</td>\n",
       "      <td>355</td>\n",
       "    </tr>\n",
       "  </tbody>\n",
       "</table>\n",
       "</div>"
      ],
      "text/plain": [
       "     State ABBR         Code Expanded ZIP\n",
       "0  Alabama   AL  350nn-352nn          350\n",
       "1  Alabama   AL  350nn-352nn          351\n",
       "2  Alabama   AL  350nn-352nn          352\n",
       "3  Alabama   AL  354nn-369nn          354\n",
       "4  Alabama   AL  354nn-369nn          355"
      ]
     },
     "execution_count": 45,
     "metadata": {},
     "output_type": "execute_result"
    }
   ],
   "source": [
    "df.head()"
   ]
  },
  {
   "cell_type": "markdown",
   "id": "b1c78257",
   "metadata": {},
   "source": [
    "## Filter and use with loc[] and iloc[]"
   ]
  },
  {
   "attachments": {
    "image.png": {
     "image/png": "[encoded data removed]"
    }
   },
   "cell_type": "markdown",
   "id": "e4fb0ba8",
   "metadata": {},
   "source": [
    "![image.png](attachment:image.png)"
   ]
  },
  {
   "cell_type": "code",
   "execution_count": 49,
   "id": "1dbf95c2",
   "metadata": {},
   "outputs": [
    {
     "name": "stdout",
     "output_type": "stream",
     "text": [
      "State               Alabama\n",
      "ABBR                     AL\n",
      "Code            350nn-352nn\n",
      "Expanded ZIP            350\n",
      "Name: 0, dtype: object\n",
      "State               Alabama\n",
      "ABBR                     AL\n",
      "Code            350nn-352nn\n",
      "Expanded ZIP            351\n",
      "Name: 1, dtype: object\n"
     ]
    }
   ],
   "source": [
    "# Select Single Row by Index Label\n",
    "print(df.loc[0])\n",
    "\n",
    "# Select Single Row by Index\n",
    "print(df.iloc[1])\n"
   ]
  },
  {
   "cell_type": "code",
   "execution_count": null,
   "id": "0462136f",
   "metadata": {},
   "outputs": [],
   "source": [
    "Here are examples using loc and iloc to filter data "
   ]
  },
  {
   "cell_type": "code",
   "execution_count": 50,
   "id": "bf279d8e",
   "metadata": {},
   "outputs": [
    {
     "name": "stdout",
     "output_type": "stream",
     "text": [
      "      State ABBR         Code Expanded ZIP\n",
      "194  Hawaii   HI  967nn-967nn          967\n",
      "195  Hawaii   HI  968nn-968nn          968\n"
     ]
    }
   ],
   "source": [
    "# Using Conditions\n",
    "print(df.loc[df['State'] == 'Hawaii'])"
   ]
  },
  {
   "cell_type": "code",
   "execution_count": 51,
   "id": "4d44e253",
   "metadata": {},
   "outputs": [
    {
     "name": "stdout",
     "output_type": "stream",
     "text": [
      "      State ABBR         Code Expanded ZIP\n",
      "194  Hawaii   HI  967nn-967nn          967\n",
      "195  Hawaii   HI  968nn-968nn          968\n"
     ]
    }
   ],
   "source": [
    "print(df.iloc[list(df['State'] == 'Hawaii')])"
   ]
  },
  {
   "cell_type": "code",
   "execution_count": 54,
   "id": "41dab93d",
   "metadata": {},
   "outputs": [],
   "source": [
    "df_hi_iloc = df.iloc[list(df['State'] == 'Hawaii')]"
   ]
  },
  {
   "cell_type": "code",
   "execution_count": 55,
   "id": "406f3ae4",
   "metadata": {},
   "outputs": [
    {
     "data": {
      "text/html": [
       "<div>\n",
       "<style scoped>\n",
       "    .dataframe tbody tr th:only-of-type {\n",
       "        vertical-align: middle;\n",
       "    }\n",
       "\n",
       "    .dataframe tbody tr th {\n",
       "        vertical-align: top;\n",
       "    }\n",
       "\n",
       "    .dataframe thead th {\n",
       "        text-align: right;\n",
       "    }\n",
       "</style>\n",
       "<table border=\"1\" class=\"dataframe\">\n",
       "  <thead>\n",
       "    <tr style=\"text-align: right;\">\n",
       "      <th></th>\n",
       "      <th>State</th>\n",
       "      <th>ABBR</th>\n",
       "      <th>Code</th>\n",
       "      <th>Expanded ZIP</th>\n",
       "    </tr>\n",
       "  </thead>\n",
       "  <tbody>\n",
       "    <tr>\n",
       "      <th>194</th>\n",
       "      <td>Hawaii</td>\n",
       "      <td>HI</td>\n",
       "      <td>967nn-967nn</td>\n",
       "      <td>967</td>\n",
       "    </tr>\n",
       "    <tr>\n",
       "      <th>195</th>\n",
       "      <td>Hawaii</td>\n",
       "      <td>HI</td>\n",
       "      <td>968nn-968nn</td>\n",
       "      <td>968</td>\n",
       "    </tr>\n",
       "  </tbody>\n",
       "</table>\n",
       "</div>"
      ],
      "text/plain": [
       "      State ABBR         Code Expanded ZIP\n",
       "194  Hawaii   HI  967nn-967nn          967\n",
       "195  Hawaii   HI  968nn-968nn          968"
      ]
     },
     "execution_count": 55,
     "metadata": {},
     "output_type": "execute_result"
    }
   ],
   "source": [
    "df_hi_iloc"
   ]
  },
  {
   "cell_type": "code",
   "execution_count": 40,
   "id": "78df8c66",
   "metadata": {},
   "outputs": [],
   "source": [
    "#help(df.query)"
   ]
  },
  {
   "cell_type": "code",
   "execution_count": 56,
   "id": "2138e4fa",
   "metadata": {},
   "outputs": [],
   "source": [
    "df_hi_loc = df.loc[df['State'] == 'Hawaii']"
   ]
  },
  {
   "cell_type": "code",
   "execution_count": 57,
   "id": "087b40ee",
   "metadata": {},
   "outputs": [
    {
     "data": {
      "text/html": [
       "<div>\n",
       "<style scoped>\n",
       "    .dataframe tbody tr th:only-of-type {\n",
       "        vertical-align: middle;\n",
       "    }\n",
       "\n",
       "    .dataframe tbody tr th {\n",
       "        vertical-align: top;\n",
       "    }\n",
       "\n",
       "    .dataframe thead th {\n",
       "        text-align: right;\n",
       "    }\n",
       "</style>\n",
       "<table border=\"1\" class=\"dataframe\">\n",
       "  <thead>\n",
       "    <tr style=\"text-align: right;\">\n",
       "      <th></th>\n",
       "      <th>State</th>\n",
       "      <th>ABBR</th>\n",
       "      <th>Code</th>\n",
       "      <th>Expanded ZIP</th>\n",
       "    </tr>\n",
       "  </thead>\n",
       "  <tbody>\n",
       "    <tr>\n",
       "      <th>194</th>\n",
       "      <td>Hawaii</td>\n",
       "      <td>HI</td>\n",
       "      <td>967nn-967nn</td>\n",
       "      <td>967</td>\n",
       "    </tr>\n",
       "    <tr>\n",
       "      <th>195</th>\n",
       "      <td>Hawaii</td>\n",
       "      <td>HI</td>\n",
       "      <td>968nn-968nn</td>\n",
       "      <td>968</td>\n",
       "    </tr>\n",
       "  </tbody>\n",
       "</table>\n",
       "</div>"
      ],
      "text/plain": [
       "      State ABBR         Code Expanded ZIP\n",
       "194  Hawaii   HI  967nn-967nn          967\n",
       "195  Hawaii   HI  968nn-968nn          968"
      ]
     },
     "execution_count": 57,
     "metadata": {},
     "output_type": "execute_result"
    }
   ],
   "source": [
    "df_hi_loc"
   ]
  },
  {
   "cell_type": "code",
   "execution_count": null,
   "id": "f06aecd6",
   "metadata": {},
   "outputs": [],
   "source": []
  },
  {
   "cell_type": "markdown",
   "id": "9dfcb508",
   "metadata": {},
   "source": [
    "## Here is an example of a function and applied to a dataframe column"
   ]
  },
  {
   "cell_type": "code",
   "execution_count": 61,
   "id": "bb2123cc",
   "metadata": {},
   "outputs": [],
   "source": [
    "def up_state(lstate):\n",
    "    ustate = lstate.upper()\n",
    "    return ustate"
   ]
  },
  {
   "cell_type": "code",
   "execution_count": 62,
   "id": "756e3931",
   "metadata": {},
   "outputs": [
    {
     "name": "stdout",
     "output_type": "stream",
     "text": [
      "KA\n"
     ]
    }
   ],
   "source": [
    "print(up_state('ka'))"
   ]
  },
  {
   "cell_type": "code",
   "execution_count": 63,
   "id": "8c2b7a79",
   "metadata": {},
   "outputs": [],
   "source": [
    "df['UpState'] = df['State'].apply(up_state)"
   ]
  },
  {
   "cell_type": "code",
   "execution_count": 64,
   "id": "90100207",
   "metadata": {},
   "outputs": [
    {
     "data": {
      "text/html": [
       "<div>\n",
       "<style scoped>\n",
       "    .dataframe tbody tr th:only-of-type {\n",
       "        vertical-align: middle;\n",
       "    }\n",
       "\n",
       "    .dataframe tbody tr th {\n",
       "        vertical-align: top;\n",
       "    }\n",
       "\n",
       "    .dataframe thead th {\n",
       "        text-align: right;\n",
       "    }\n",
       "</style>\n",
       "<table border=\"1\" class=\"dataframe\">\n",
       "  <thead>\n",
       "    <tr style=\"text-align: right;\">\n",
       "      <th></th>\n",
       "      <th>State</th>\n",
       "      <th>ABBR</th>\n",
       "      <th>Code</th>\n",
       "      <th>Expanded ZIP</th>\n",
       "      <th>UpState</th>\n",
       "    </tr>\n",
       "  </thead>\n",
       "  <tbody>\n",
       "    <tr>\n",
       "      <th>0</th>\n",
       "      <td>Alabama</td>\n",
       "      <td>AL</td>\n",
       "      <td>350nn-352nn</td>\n",
       "      <td>350</td>\n",
       "      <td>ALABAMA</td>\n",
       "    </tr>\n",
       "    <tr>\n",
       "      <th>1</th>\n",
       "      <td>Alabama</td>\n",
       "      <td>AL</td>\n",
       "      <td>350nn-352nn</td>\n",
       "      <td>351</td>\n",
       "      <td>ALABAMA</td>\n",
       "    </tr>\n",
       "    <tr>\n",
       "      <th>2</th>\n",
       "      <td>Alabama</td>\n",
       "      <td>AL</td>\n",
       "      <td>350nn-352nn</td>\n",
       "      <td>352</td>\n",
       "      <td>ALABAMA</td>\n",
       "    </tr>\n",
       "    <tr>\n",
       "      <th>3</th>\n",
       "      <td>Alabama</td>\n",
       "      <td>AL</td>\n",
       "      <td>354nn-369nn</td>\n",
       "      <td>354</td>\n",
       "      <td>ALABAMA</td>\n",
       "    </tr>\n",
       "    <tr>\n",
       "      <th>4</th>\n",
       "      <td>Alabama</td>\n",
       "      <td>AL</td>\n",
       "      <td>354nn-369nn</td>\n",
       "      <td>355</td>\n",
       "      <td>ALABAMA</td>\n",
       "    </tr>\n",
       "  </tbody>\n",
       "</table>\n",
       "</div>"
      ],
      "text/plain": [
       "     State ABBR         Code Expanded ZIP  UpState\n",
       "0  Alabama   AL  350nn-352nn          350  ALABAMA\n",
       "1  Alabama   AL  350nn-352nn          351  ALABAMA\n",
       "2  Alabama   AL  350nn-352nn          352  ALABAMA\n",
       "3  Alabama   AL  354nn-369nn          354  ALABAMA\n",
       "4  Alabama   AL  354nn-369nn          355  ALABAMA"
      ]
     },
     "execution_count": 64,
     "metadata": {},
     "output_type": "execute_result"
    }
   ],
   "source": [
    "df.head()"
   ]
  },
  {
   "cell_type": "code",
   "execution_count": null,
   "id": "447629e3",
   "metadata": {},
   "outputs": [],
   "source": []
  },
  {
   "cell_type": "code",
   "execution_count": null,
   "id": "a61f6c6c",
   "metadata": {},
   "outputs": [],
   "source": []
  }
 ],
 "metadata": {
  "kernelspec": {
   "display_name": "Python 3 (ipykernel)",
   "language": "python",
   "name": "python3"
  },
  "language_info": {
   "codemirror_mode": {
    "name": "ipython",
    "version": 3
   },
   "file_extension": ".py",
   "mimetype": "text/x-python",
   "name": "python",
   "nbconvert_exporter": "python",
   "pygments_lexer": "ipython3",
   "version": "3.11.5"
  }
 },
 "nbformat": 4,
 "nbformat_minor": 5
}
